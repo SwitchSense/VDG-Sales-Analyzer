{
 "cells": [
  {
   "cell_type": "code",
   "execution_count": null,
   "metadata": {},
   "outputs": [],
   "source": [
    "import pandas as pd\n",
    "import matplotlib.pyplot as plt"
   ]
  },
  {
   "cell_type": "code",
   "execution_count": null,
   "metadata": {},
   "outputs": [],
   "source": [
    "ranking = pd.read_csv(\"vgsales.csv\")\n",
    "ranking"
   ]
  },
  {
   "cell_type": "code",
   "execution_count": null,
   "metadata": {},
   "outputs": [],
   "source": [
    "# dropping nan values\n",
    "ranking.dropna(how=\"any\", inplace = True)\n",
    "ranking.info()"
   ]
  },
  {
   "cell_type": "code",
   "execution_count": null,
   "metadata": {},
   "outputs": [],
   "source": [
    "ranking[\"Year\"] = ranking[\"Year\"].astype(int)\n",
    "ranking.head()"
   ]
  },
  {
   "cell_type": "code",
   "execution_count": null,
   "metadata": {},
   "outputs": [],
   "source": [
    "top_ten = ranking[ranking[\"Rank\"] <= 10]\n",
    "top_ten"
   ]
  },
  {
   "cell_type": "code",
   "execution_count": null,
   "metadata": {},
   "outputs": [],
   "source": [
    "plt.figure(figsize=(15, 10))\n",
    "plt.bar((top_ten[\"Name\"] + \" (\" + top_ten[\"Platform\"] + \")\"), top_ten[\"Global_Sales\"])\n",
    "plt.title(\"Top 10 Global Sales 1980 - 2020\")\n",
    "plt.xlabel(\"Name\")\n",
    "plt.ylabel(\"Sales (Million Units)\")\n",
    "plt.xticks(rotation=90)\n",
    "plt.show()"
   ]
  },
  {
   "cell_type": "code",
   "execution_count": null,
   "metadata": {},
   "outputs": [],
   "source": [
    "ranking_2000 = ranking[ranking[\"Year\"] == 2000]\n",
    "ranking_2000 = ranking_2000.iloc[0:10, :]\n",
    "ranking_2000"
   ]
  }
 ],
 "metadata": {
  "interpreter": {
   "hash": "e15bb0e2e2ac6b13db4f059ebcee51b2683c36f18519fe3bf04653c1a70db553"
  },
  "kernelspec": {
   "display_name": "Python 3.9.7 64-bit",
   "language": "python",
   "name": "python3"
  },
  "language_info": {
   "codemirror_mode": {
    "name": "ipython",
    "version": 3
   },
   "file_extension": ".py",
   "mimetype": "text/x-python",
   "name": "python",
   "nbconvert_exporter": "python",
   "pygments_lexer": "ipython3",
   "version": "3.9.7"
  },
  "orig_nbformat": 4
 },
 "nbformat": 4,
 "nbformat_minor": 2
}
