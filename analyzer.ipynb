{
 "cells": [
  {
   "cell_type": "code",
   "execution_count": null,
   "metadata": {},
   "outputs": [],
   "source": [
    "import pandas as pd\n",
    "import matplotlib.pyplot as plt"
   ]
  },
  {
   "cell_type": "code",
   "execution_count": null,
   "metadata": {},
   "outputs": [],
   "source": [
    "ranking = pd.read_csv(\"vgsales.csv\")\n",
    "ranking"
   ]
  },
  {
   "cell_type": "code",
   "execution_count": null,
   "metadata": {},
   "outputs": [],
   "source": [
    "# dropping nan values\n",
    "ranking.dropna(how=\"any\", inplace = True)\n",
    "ranking.info()"
   ]
  },
  {
   "cell_type": "code",
   "execution_count": null,
   "metadata": {},
   "outputs": [],
   "source": [
    "ranking[\"Year\"] = ranking[\"Year\"].astype(int)\n",
    "ranking.head()"
   ]
  },
  {
   "cell_type": "code",
   "execution_count": null,
   "metadata": {},
   "outputs": [],
   "source": [
    "top_ten = ranking[ranking[\"Rank\"] <= 10]\n",
    "top_ten"
   ]
  },
  {
   "cell_type": "code",
   "execution_count": null,
   "metadata": {},
   "outputs": [],
   "source": [
    "plt.figure(figsize=(15, 10))\n",
    "plt.bar((top_ten[\"Name\"] + \" (\" + top_ten[\"Platform\"] + \")\"), top_ten[\"Global_Sales\"])\n",
    "plt.title(\"Top 10 Global Sales 1980 - 2020\")\n",
    "plt.xlabel(\"Name\")\n",
    "plt.ylabel(\"Sales (Million Units)\")\n",
    "plt.xticks(rotation=90)\n",
    "plt.show()"
   ]
  },
  {
   "cell_type": "code",
   "execution_count": null,
   "metadata": {},
   "outputs": [],
   "source": [
    "ranking_2000 = ranking[ranking[\"Year\"] == 2000]\n",
    "ranking_2000 = ranking_2000.iloc[0:10, :]\n",
    "ranking_2000"
   ]
  },
  {
   "cell_type": "code",
   "execution_count": null,
   "metadata": {},
   "outputs": [],
   "source": [
    "plt.figure(figsize=(15, 10))\n",
    "plt.bar((ranking_2000[\"Name\"] + \" (\" + ranking_2000[\"Platform\"] + \")\"), ranking_2000[\"Global_Sales\"])\n",
    "plt.title(\"Top 10 Global Sales 2000\")\n",
    "plt.xlabel(\"Name\")\n",
    "plt.ylabel(\"Sales (Million Units)\")\n",
    "plt.xticks(rotation=90)\n",
    "plt.show()"
   ]
  },
  {
   "cell_type": "code",
   "execution_count": null,
   "metadata": {},
   "outputs": [],
   "source": [
    "ranking_2001 = ranking[ranking[\"Year\"] == 2001]\n",
    "ranking_2001 = ranking_2001.iloc[0:10, :]\n",
    "ranking_2001"
   ]
  },
  {
   "cell_type": "code",
   "execution_count": null,
   "metadata": {},
   "outputs": [],
   "source": [
    "plt.figure(figsize=(15, 10))\n",
    "plt.bar((ranking_2001[\"Name\"] + \" (\" + ranking_2001[\"Platform\"] + \")\"), ranking_2001[\"Global_Sales\"])\n",
    "plt.title(\"Top 10 Global Sales 2001\")\n",
    "plt.xlabel(\"Name\")\n",
    "plt.ylabel(\"Sales (Million Units)\")\n",
    "plt.xticks(rotation=90)\n",
    "plt.show()"
   ]
  },
  {
   "cell_type": "code",
   "execution_count": null,
   "metadata": {},
   "outputs": [],
   "source": [
    "ranking_2002 = ranking[ranking[\"Year\"] == 2002]\n",
    "ranking_2002 = ranking_2002.iloc[0:10, :]\n",
    "ranking_2002"
   ]
  },
  {
   "cell_type": "code",
   "execution_count": null,
   "metadata": {},
   "outputs": [],
   "source": [
    "plt.figure(figsize=(15, 10))\n",
    "plt.bar((ranking_2002[\"Name\"] + \" (\" + ranking_2002[\"Platform\"] + \")\"), ranking_2002[\"Global_Sales\"])\n",
    "plt.title(\"Top 10 Global Sales 2002\")\n",
    "plt.xlabel(\"Name\")\n",
    "plt.ylabel(\"Sales (Million Units)\")\n",
    "plt.xticks(rotation=90)\n",
    "plt.show()"
   ]
  },
  {
   "cell_type": "code",
   "execution_count": null,
   "metadata": {},
   "outputs": [],
   "source": [
    "ranking_2003 = ranking[ranking[\"Year\"] == 2003]\n",
    "ranking_2003 = ranking_2003.iloc[0:10, :]\n",
    "ranking_2003"
   ]
  },
  {
   "cell_type": "code",
   "execution_count": null,
   "metadata": {},
   "outputs": [],
   "source": [
    "plt.figure(figsize=(15, 10))\n",
    "plt.bar((ranking_2003[\"Name\"] + \" (\" + ranking_2003[\"Platform\"] + \")\"), ranking_2003[\"Global_Sales\"])\n",
    "plt.title(\"Top 10 Global Sales 2003\")\n",
    "plt.xlabel(\"Name\")\n",
    "plt.ylabel(\"Sales (Million Units)\")\n",
    "plt.xticks(rotation=90)\n",
    "plt.show()"
   ]
  },
  {
   "cell_type": "code",
   "execution_count": null,
   "metadata": {},
   "outputs": [],
   "source": [
    "ranking_2004 = ranking[ranking[\"Year\"] == 2004]\n",
    "ranking_2004 = ranking_2004.iloc[0:10, :]\n",
    "ranking_2004"
   ]
  },
  {
   "cell_type": "code",
   "execution_count": null,
   "metadata": {},
   "outputs": [],
   "source": [
    "plt.figure(figsize=(15, 10))\n",
    "plt.bar((ranking_2004[\"Name\"] + \" (\" + ranking_2004[\"Platform\"] + \")\"), ranking_2004[\"Global_Sales\"])\n",
    "plt.title(\"Top 10 Global Sales 2004\")\n",
    "plt.xlabel(\"Name\")\n",
    "plt.ylabel(\"Sales (Million Units)\")\n",
    "plt.xticks(rotation=90)\n",
    "plt.show()"
   ]
  },
  {
   "cell_type": "code",
   "execution_count": null,
   "metadata": {},
   "outputs": [],
   "source": [
    "ranking_2005 = ranking[ranking[\"Year\"] == 2005]\n",
    "ranking_2005 = ranking_2005.iloc[0:10, :]\n",
    "ranking_2005"
   ]
  },
  {
   "cell_type": "code",
   "execution_count": null,
   "metadata": {},
   "outputs": [],
   "source": [
    "plt.figure(figsize=(15, 10))\n",
    "plt.bar((ranking_2005[\"Name\"] + \" (\" + ranking_2005[\"Platform\"] + \")\"), ranking_2005[\"Global_Sales\"])\n",
    "plt.title(\"Top 10 Global Sales 2005\")\n",
    "plt.xlabel(\"Name\")\n",
    "plt.ylabel(\"Sales (Million Units)\")\n",
    "plt.xticks(rotation=90)\n",
    "plt.show()"
   ]
  },
  {
   "cell_type": "code",
   "execution_count": null,
   "metadata": {},
   "outputs": [],
   "source": [
    "ranking_2006 = ranking[ranking[\"Year\"] == 2006]\n",
    "ranking_2006 = ranking_2006.iloc[0:10, :]\n",
    "ranking_2006"
   ]
  },
  {
   "cell_type": "code",
   "execution_count": null,
   "metadata": {},
   "outputs": [],
   "source": [
    "plt.figure(figsize=(15, 10))\n",
    "plt.bar((ranking_2006[\"Name\"] + \" (\" + ranking_2006[\"Platform\"] + \")\"), ranking_2006[\"Global_Sales\"])\n",
    "plt.title(\"Top 10 Global Sales 2006\")\n",
    "plt.xlabel(\"Name\")\n",
    "plt.ylabel(\"Sales (Million Units)\")\n",
    "plt.xticks(rotation=90)\n",
    "plt.show()"
   ]
  },
  {
   "cell_type": "code",
   "execution_count": null,
   "metadata": {},
   "outputs": [],
   "source": [
    "ranking_2007 = ranking[ranking[\"Year\"] == 2007]\n",
    "ranking_2007 = ranking_2007.iloc[0:10, :]\n",
    "ranking_2007"
   ]
  },
  {
   "cell_type": "code",
   "execution_count": null,
   "metadata": {},
   "outputs": [],
   "source": [
    "plt.figure(figsize=(15, 10))\n",
    "plt.bar((ranking_2007[\"Name\"] + \" (\" + ranking_2007[\"Platform\"] + \")\"), ranking_2007[\"Global_Sales\"])\n",
    "plt.title(\"Top 10 Global Sales 2007\")\n",
    "plt.xlabel(\"Name\")\n",
    "plt.ylabel(\"Sales (Million Units)\")\n",
    "plt.xticks(rotation=90)\n",
    "plt.show()"
   ]
  },
  {
   "cell_type": "code",
   "execution_count": null,
   "metadata": {},
   "outputs": [],
   "source": [
    "ranking_2008 = ranking[ranking[\"Year\"] == 2008]\n",
    "ranking_2008 = ranking_2008.iloc[0:10, :]\n",
    "ranking_2008"
   ]
  },
  {
   "cell_type": "code",
   "execution_count": null,
   "metadata": {},
   "outputs": [],
   "source": [
    "plt.figure(figsize=(15, 10))\n",
    "plt.bar((ranking_2008[\"Name\"] + \" (\" + ranking_2008[\"Platform\"] + \")\"), ranking_2008[\"Global_Sales\"])\n",
    "plt.title(\"Top 10 Global Sales 2008\")\n",
    "plt.xlabel(\"Name\")\n",
    "plt.ylabel(\"Sales (Million Units)\")\n",
    "plt.xticks(rotation=90)\n",
    "plt.show()"
   ]
  },
  {
   "cell_type": "code",
   "execution_count": null,
   "metadata": {},
   "outputs": [],
   "source": [
    "ranking_2009 = ranking[ranking[\"Year\"] == 2009]\n",
    "ranking_2009 = ranking_2009.iloc[0:10, :]\n",
    "ranking_2009"
   ]
  },
  {
   "cell_type": "code",
   "execution_count": null,
   "metadata": {},
   "outputs": [],
   "source": [
    "plt.figure(figsize=(15, 10))\n",
    "plt.bar((ranking_2009[\"Name\"] + \" (\" + ranking_2009[\"Platform\"] + \")\"), ranking_2009[\"Global_Sales\"])\n",
    "plt.title(\"Top 10 Global Sales 2009\")\n",
    "plt.xlabel(\"Name\")\n",
    "plt.ylabel(\"Sales (Million Units)\")\n",
    "plt.xticks(rotation=90)\n",
    "plt.show()"
   ]
  },
  {
   "cell_type": "code",
   "execution_count": null,
   "metadata": {},
   "outputs": [],
   "source": [
    "ranking_2010 = ranking[ranking[\"Year\"] == 2010]\n",
    "ranking_2010 = ranking_2010.iloc[0:10, :]\n",
    "ranking_2010"
   ]
  },
  {
   "cell_type": "code",
   "execution_count": null,
   "metadata": {},
   "outputs": [],
   "source": [
    "plt.figure(figsize=(15, 10))\n",
    "plt.bar((ranking_2010[\"Name\"] + \" (\" + ranking_2010[\"Platform\"] + \")\"), ranking_2010[\"Global_Sales\"])\n",
    "plt.title(\"Top 10 Global Sales 2010\")\n",
    "plt.xlabel(\"Name\")\n",
    "plt.ylabel(\"Sales (Million Units)\")\n",
    "plt.xticks(rotation=90)\n",
    "plt.show()"
   ]
  },
  {
   "cell_type": "code",
   "execution_count": null,
   "metadata": {},
   "outputs": [],
   "source": [
    "ranking_2000 = ranking_2000[ranking_2000[\"Publisher\"] == \"Nintendo\"]\n",
    "ranking_2000"
   ]
  }
 ],
 "metadata": {
  "interpreter": {
   "hash": "e15bb0e2e2ac6b13db4f059ebcee51b2683c36f18519fe3bf04653c1a70db553"
  },
  "kernelspec": {
   "display_name": "Python 3.9.7 64-bit",
   "language": "python",
   "name": "python3"
  },
  "language_info": {
   "codemirror_mode": {
    "name": "ipython",
    "version": 3
   },
   "file_extension": ".py",
   "mimetype": "text/x-python",
   "name": "python",
   "nbconvert_exporter": "python",
   "pygments_lexer": "ipython3",
   "version": "3.9.7"
  },
  "orig_nbformat": 4
 },
 "nbformat": 4,
 "nbformat_minor": 2
}
